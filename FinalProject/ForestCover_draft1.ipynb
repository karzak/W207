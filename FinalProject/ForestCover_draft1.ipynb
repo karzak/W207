{
 "cells": [
  {
   "cell_type": "markdown",
   "metadata": {},
   "source": [
    "Download the data and figure out how to import it into python/numpy objects so you can\n",
    "process it with SKLearn.\n",
    "\n",
    "Split the data you get into training and development for running your own experiments. \n",
    "\n",
    "Establish a baseline and submit to Kaggle for verification. \n",
    "\n",
    "For your submission, you should probably train your model on all the data you have. \n",
    "\n",
    "Send your instructor a link to the leaderboard that shows your baseline score. Note that if you are working on a nonactive project, the leaderboard will not update to reflect your submission; just email your score and rank to your instructor.\n",
    "\n",
    "Due Date: 28 March"
   ]
  },
  {
   "cell_type": "code",
   "execution_count": null,
   "metadata": {
    "collapsed": true
   },
   "outputs": [],
   "source": [
    "# This tells matplotlib not to try opening a new window for each plot.\n",
    "%matplotlib inline\n",
    "\n",
    "# General libraries.\n",
    "import re\n",
    "import numpy as np\n",
    "import matplotlib.pyplot as plt\n",
    "\n",
    "# SK-learn libraries for learning.\n",
    "from sklearn.pipeline import Pipeline\n",
    "from sklearn.linear_model import LinearRegression\n",
    "from sklearn.neighbors import KNeighborsClassifier\n"
   ]
  },
  {
   "cell_type": "code",
   "execution_count": null,
   "metadata": {
    "collapsed": false
   },
   "outputs": [],
   "source": [
    "#load the training data\n",
    "train_data_load=np.genfromtxt('C:/Users/Batman/Documents/Term2/207/FinalKaggleProj/train.csv', \n",
    "                      delimiter=\",\", skip_header=1, names=True)\n",
    "train_labels_load=np.genfromtxt('C:/Users/Batman/Documents/Term2/207/FinalKaggleProj/train.csv', \n",
    "                     delimiter=\",\", skip_header=1, names=True, usecols=-1)\n",
    "\n",
    "num_test = len(train_data_load)\n",
    "#split the train data into train and dev data\n",
    "train_data, train_labels = train_data_load[num_test/2:], train_labels_load[num_test/2:]\n",
    "dev_data, dev_labels = train_data_load[:num_test/2], train_labels_load[:num_test/2]\n"
   ]
  },
  {
   "cell_type": "code",
   "execution_count": null,
   "metadata": {
    "collapsed": false
   },
   "outputs": [],
   "source": [
    "#load the test data\n",
    "test_data_load=np.genfromtxt('C:/Users/Batman/Documents/Term2/207/FinalKaggleProj/test.csv', \n",
    "                      delimiter=\",\", skip_header=1, names=True)"
   ]
  },
  {
   "cell_type": "raw",
   "metadata": {
    "collapsed": false
   },
   "source": [
    "lm=LinearRegression()\n",
    "lm.fit(X, y)\n",
    "pred=lm.predict(X_test)"
   ]
  },
  {
   "cell_type": "code",
   "execution_count": null,
   "metadata": {
    "collapsed": true
   },
   "outputs": [],
   "source": [
    "kn = KNeighborsClassifier(n_neighbors=1)\n",
    "kn.fit(X, y)\n",
    "# here's what we need to send back to Kaggle\n",
    "preds = kn.predict(X_test)"
   ]
  }
 ],
 "metadata": {
  "kernelspec": {
   "display_name": "Python 2",
   "language": "python",
   "name": "python2"
  },
  "language_info": {
   "codemirror_mode": {
    "name": "ipython",
    "version": 2
   },
   "file_extension": ".py",
   "mimetype": "text/x-python",
   "name": "python",
   "nbconvert_exporter": "python",
   "pygments_lexer": "ipython2",
   "version": "2.7.11"
  }
 },
 "nbformat": 4,
 "nbformat_minor": 0
}
